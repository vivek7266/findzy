{
 "cells": [
  {
   "cell_type": "code",
   "execution_count": 73,
   "metadata": {},
   "outputs": [],
   "source": [
    "import requests\n",
    "from bs4 import BeautifulSoup\n",
    "import re\n",
    "import time"
   ]
  },
  {
   "cell_type": "code",
   "execution_count": 3,
   "metadata": {},
   "outputs": [],
   "source": [
    "from selenium import webdriver\n",
    "import time"
   ]
  },
  {
   "cell_type": "code",
   "execution_count": 4,
   "metadata": {},
   "outputs": [],
   "source": [
    "import pandas as pd\n",
    "import numpy as np"
   ]
  },
  {
   "cell_type": "code",
   "execution_count": 101,
   "metadata": {},
   "outputs": [],
   "source": [
    "from datetime import datetime\n",
    "from datetime import datetime, timezone\n",
    "import pytz"
   ]
  },
  {
   "cell_type": "code",
   "execution_count": 42,
   "metadata": {},
   "outputs": [],
   "source": [
    "def slugify(s):\n",
    "    \"\"\"\n",
    "    Simplifies ugly strings into something URL-friendly.\n",
    "    >>> print slugify(\"[Some] _ Article's Title--\")\n",
    "    some-articles-title\n",
    "    \"\"\"\n",
    "\n",
    "    # \"[Some] _ Article's Title--\"\n",
    "    # \"[some] _ article's title--\"\n",
    "    s = s.lower()\n",
    "\n",
    "    # \"[some] _ article's_title--\"\n",
    "    # \"[some]___article's_title__\"\n",
    "    for c in [' ', '-', '.', '/']:\n",
    "        s = s.replace(c, '_')\n",
    "\n",
    "    # \"[some]___article's_title__\"\n",
    "    # \"some___articles_title__\"\n",
    "    s = re.sub('\\W', '', s)\n",
    "\n",
    "    # \"some___articles_title__\"\n",
    "    # \"some   articles title  \"\n",
    "    s = s.replace('_', ' ')\n",
    "\n",
    "    # \"some   articles title  \"\n",
    "    # \"some articles title \"\n",
    "    s = re.sub('\\s+', ' ', s)\n",
    "\n",
    "    # \"some articles title \"\n",
    "    # \"some articles title\"\n",
    "    s = s.strip()\n",
    "\n",
    "    # \"some articles title\"\n",
    "    # \"some-articles-title\"\n",
    "    s = s.replace(' ', '-')\n",
    "\n",
    "    return s"
   ]
  },
  {
   "cell_type": "code",
   "execution_count": 112,
   "metadata": {},
   "outputs": [],
   "source": [
    "def is_today(article_date):\n",
    "    intz = pytz.timezone('Asia/Kolkata')\n",
    "    now_dt = datetime.now(intz)\n",
    "    article_dt = datetime.strptime(article_date, '%d %b %Y, %H:%M hrs IST')\n",
    "    return now_dt.day == article_dt.day"
   ]
  },
  {
   "cell_type": "code",
   "execution_count": 47,
   "metadata": {},
   "outputs": [],
   "source": [
    "delhi_toi = \"https://timesofindia.indiatimes.com/city/delhi\"\n",
    "delhi_toi_base_url = \"https://timesofindia.indiatimes.com\"\n",
    "ltst_th = \"https://www.thehindu.com/news/\""
   ]
  },
  {
   "cell_type": "code",
   "execution_count": 113,
   "metadata": {},
   "outputs": [],
   "source": [
    "def fetch_toi_daily_news(url):\n",
    "    page = requests.get(url)\n",
    "    soup = BeautifulSoup(page.content, 'html.parser')\n",
    "    name_box = soup.find(attrs={'id': 'c_articlelist_stories_2'})\n",
    "    # text_a = [s.get('href').strip() + '|' + s.getText().strip() for s in name_box.findAll('a', href=True)]\n",
    "    lis = [s for s in name_box.findAll('li')]\n",
    "    for li in lis:\n",
    "        data = []\n",
    "        found = False\n",
    "        for s in li.findAll('a', href=True):\n",
    "            article_link = delhi_toi_base_url + s.get('href').strip() \n",
    "            article_title = s.getText().strip()\n",
    "            article_id = slugify(article_title)\n",
    "            data = [article_id, article_title, article_link]\n",
    "            found = True\n",
    "            break\n",
    "        if found:\n",
    "            for s in li.findAll(attrs={'class': 'strlastupd'}):\n",
    "                article_date = s.getText().strip()\n",
    "                if not is_today(article_date):\n",
    "                    return \"\"\n",
    "                data.append(article_date)\n",
    "                news_data.append(data)\n",
    "    ul_page = name_box.find(attrs={'class': 'pagination'})\n",
    "    lis = [s for s in ul_page.findAll('li')]\n",
    "    pages = []\n",
    "    next_link = None\n",
    "    found_curr = False\n",
    "    for li in lis:\n",
    "        if found_curr:\n",
    "            for s in li.findAll('a', href=True):\n",
    "                next_link = delhi_toi_base_url + s.get('href').strip()\n",
    "                break\n",
    "            break\n",
    "        curr = li.get('class')\n",
    "        if curr:\n",
    "            found_curr = True\n",
    "    return next_link"
   ]
  },
  {
   "cell_type": "code",
   "execution_count": 114,
   "metadata": {},
   "outputs": [
    {
     "name": "stdout",
     "output_type": "stream",
     "text": [
      "\n",
      "['delhi-soon-take-metro-to-manesar-rewari', \"Delhi: Soon, take 'Metro' to Manesar, Rewari\", 'https://timesofindia.indiatimes.com/city/delhi/delhi-soon-take-metro-to-manesar-rewari/articleshow/67263858.cms', '27 Dec 2018, 06:43 hrs IST']\n"
     ]
    }
   ],
   "source": [
    "news_data = []\n",
    "url = delhi_toi\n",
    "continue_now = True\n",
    "count = 0\n",
    "while continue_now and count < 15:\n",
    "    time.sleep(5)\n",
    "    url = fetch_toi_daily_news(url)\n",
    "    print(url)\n",
    "    print(news_data[-1])\n",
    "    if not url:\n",
    "        continue_now = False\n",
    "    count += 1"
   ]
  },
  {
   "cell_type": "code",
   "execution_count": 116,
   "metadata": {},
   "outputs": [
    {
     "data": {
      "text/plain": [
       "29"
      ]
     },
     "execution_count": 116,
     "metadata": {},
     "output_type": "execute_result"
    }
   ],
   "source": [
    "len(news_data)"
   ]
  },
  {
   "cell_type": "code",
   "execution_count": 118,
   "metadata": {},
   "outputs": [],
   "source": [
    "news_df = pd.DataFrame(news_data)\n",
    "news_df.columns = [\"article_id\", \"article_title\", \"article_url\", \"article_time\"]"
   ]
  },
  {
   "cell_type": "code",
   "execution_count": 119,
   "metadata": {},
   "outputs": [
    {
     "data": {
      "text/html": [
       "<div>\n",
       "<style scoped>\n",
       "    .dataframe tbody tr th:only-of-type {\n",
       "        vertical-align: middle;\n",
       "    }\n",
       "\n",
       "    .dataframe tbody tr th {\n",
       "        vertical-align: top;\n",
       "    }\n",
       "\n",
       "    .dataframe thead th {\n",
       "        text-align: right;\n",
       "    }\n",
       "</style>\n",
       "<table border=\"1\" class=\"dataframe\">\n",
       "  <thead>\n",
       "    <tr style=\"text-align: right;\">\n",
       "      <th></th>\n",
       "      <th>article_id</th>\n",
       "      <th>article_title</th>\n",
       "      <th>article_url</th>\n",
       "      <th>article_time</th>\n",
       "    </tr>\n",
       "  </thead>\n",
       "  <tbody>\n",
       "    <tr>\n",
       "      <th>0</th>\n",
       "      <td>delhi-lawyer-plays-cop-nabs-snatcher-in-12-hrs</td>\n",
       "      <td>Delhi lawyer plays cop, nabs snatcher in 12 hrs</td>\n",
       "      <td>https://timesofindia.indiatimes.com/city/delhi...</td>\n",
       "      <td>27 Dec 2018, 01:26 hrs IST</td>\n",
       "    </tr>\n",
       "    <tr>\n",
       "      <th>1</th>\n",
       "      <td>kiosks-at-delhi-metro-stations-to-help-you-boo...</td>\n",
       "      <td>Kiosks at Delhi metro stations to help you boo...</td>\n",
       "      <td>https://timesofindia.indiatimes.com/city/delhi...</td>\n",
       "      <td>27 Dec 2018, 12:30 hrs IST</td>\n",
       "    </tr>\n",
       "    <tr>\n",
       "      <th>2</th>\n",
       "      <td>200-schools-under-scanner-for-affiliation-with...</td>\n",
       "      <td>200 schools under scanner for affiliation with...</td>\n",
       "      <td>https://timesofindia.indiatimes.com/city/delhi...</td>\n",
       "      <td>27 Dec 2018, 08:16 hrs IST</td>\n",
       "    </tr>\n",
       "    <tr>\n",
       "      <th>3</th>\n",
       "      <td>plan-to-give-dilli-haat-a-fresh-look</td>\n",
       "      <td>Plan to give Dilli Haat a fresh look</td>\n",
       "      <td>https://timesofindia.indiatimes.com/city/delhi...</td>\n",
       "      <td>27 Dec 2018, 06:56 hrs IST</td>\n",
       "    </tr>\n",
       "    <tr>\n",
       "      <th>4</th>\n",
       "      <td>delhi-hospitals-sign-up-for-central-scheme</td>\n",
       "      <td>Delhi hospitals sign up for central scheme</td>\n",
       "      <td>https://timesofindia.indiatimes.com/city/delhi...</td>\n",
       "      <td>27 Dec 2018, 02:38 hrs IST</td>\n",
       "    </tr>\n",
       "  </tbody>\n",
       "</table>\n",
       "</div>"
      ],
      "text/plain": [
       "                                          article_id  \\\n",
       "0     delhi-lawyer-plays-cop-nabs-snatcher-in-12-hrs   \n",
       "1  kiosks-at-delhi-metro-stations-to-help-you-boo...   \n",
       "2  200-schools-under-scanner-for-affiliation-with...   \n",
       "3               plan-to-give-dilli-haat-a-fresh-look   \n",
       "4         delhi-hospitals-sign-up-for-central-scheme   \n",
       "\n",
       "                                       article_title  \\\n",
       "0    Delhi lawyer plays cop, nabs snatcher in 12 hrs   \n",
       "1  Kiosks at Delhi metro stations to help you boo...   \n",
       "2  200 schools under scanner for affiliation with...   \n",
       "3               Plan to give Dilli Haat a fresh look   \n",
       "4         Delhi hospitals sign up for central scheme   \n",
       "\n",
       "                                         article_url  \\\n",
       "0  https://timesofindia.indiatimes.com/city/delhi...   \n",
       "1  https://timesofindia.indiatimes.com/city/delhi...   \n",
       "2  https://timesofindia.indiatimes.com/city/delhi...   \n",
       "3  https://timesofindia.indiatimes.com/city/delhi...   \n",
       "4  https://timesofindia.indiatimes.com/city/delhi...   \n",
       "\n",
       "                 article_time  \n",
       "0  27 Dec 2018, 01:26 hrs IST  \n",
       "1  27 Dec 2018, 12:30 hrs IST  \n",
       "2  27 Dec 2018, 08:16 hrs IST  \n",
       "3  27 Dec 2018, 06:56 hrs IST  \n",
       "4  27 Dec 2018, 02:38 hrs IST  "
      ]
     },
     "execution_count": 119,
     "metadata": {},
     "output_type": "execute_result"
    }
   ],
   "source": [
    "news_df.head()"
   ]
  },
  {
   "cell_type": "code",
   "execution_count": 122,
   "metadata": {},
   "outputs": [
    {
     "data": {
      "text/html": [
       "<div>\n",
       "<style scoped>\n",
       "    .dataframe tbody tr th:only-of-type {\n",
       "        vertical-align: middle;\n",
       "    }\n",
       "\n",
       "    .dataframe tbody tr th {\n",
       "        vertical-align: top;\n",
       "    }\n",
       "\n",
       "    .dataframe thead th {\n",
       "        text-align: right;\n",
       "    }\n",
       "</style>\n",
       "<table border=\"1\" class=\"dataframe\">\n",
       "  <thead>\n",
       "    <tr style=\"text-align: right;\">\n",
       "      <th></th>\n",
       "      <th>Unnamed: 0</th>\n",
       "      <th>article_id</th>\n",
       "      <th>article_title</th>\n",
       "      <th>article_url</th>\n",
       "      <th>article_time</th>\n",
       "    </tr>\n",
       "  </thead>\n",
       "  <tbody>\n",
       "    <tr>\n",
       "      <th>0</th>\n",
       "      <td>0</td>\n",
       "      <td>delhi-lawyer-plays-cop-nabs-snatcher-in-12-hrs</td>\n",
       "      <td>Delhi lawyer plays cop, nabs snatcher in 12 hrs</td>\n",
       "      <td>https://timesofindia.indiatimes.com/city/delhi...</td>\n",
       "      <td>27 Dec 2018, 01:26 hrs IST</td>\n",
       "    </tr>\n",
       "    <tr>\n",
       "      <th>1</th>\n",
       "      <td>1</td>\n",
       "      <td>kiosks-at-delhi-metro-stations-to-help-you-boo...</td>\n",
       "      <td>Kiosks at Delhi metro stations to help you boo...</td>\n",
       "      <td>https://timesofindia.indiatimes.com/city/delhi...</td>\n",
       "      <td>27 Dec 2018, 12:30 hrs IST</td>\n",
       "    </tr>\n",
       "    <tr>\n",
       "      <th>2</th>\n",
       "      <td>2</td>\n",
       "      <td>200-schools-under-scanner-for-affiliation-with...</td>\n",
       "      <td>200 schools under scanner for affiliation with...</td>\n",
       "      <td>https://timesofindia.indiatimes.com/city/delhi...</td>\n",
       "      <td>27 Dec 2018, 08:16 hrs IST</td>\n",
       "    </tr>\n",
       "    <tr>\n",
       "      <th>3</th>\n",
       "      <td>3</td>\n",
       "      <td>plan-to-give-dilli-haat-a-fresh-look</td>\n",
       "      <td>Plan to give Dilli Haat a fresh look</td>\n",
       "      <td>https://timesofindia.indiatimes.com/city/delhi...</td>\n",
       "      <td>27 Dec 2018, 06:56 hrs IST</td>\n",
       "    </tr>\n",
       "    <tr>\n",
       "      <th>4</th>\n",
       "      <td>4</td>\n",
       "      <td>delhi-hospitals-sign-up-for-central-scheme</td>\n",
       "      <td>Delhi hospitals sign up for central scheme</td>\n",
       "      <td>https://timesofindia.indiatimes.com/city/delhi...</td>\n",
       "      <td>27 Dec 2018, 02:38 hrs IST</td>\n",
       "    </tr>\n",
       "  </tbody>\n",
       "</table>\n",
       "</div>"
      ],
      "text/plain": [
       "   Unnamed: 0                                         article_id  \\\n",
       "0           0     delhi-lawyer-plays-cop-nabs-snatcher-in-12-hrs   \n",
       "1           1  kiosks-at-delhi-metro-stations-to-help-you-boo...   \n",
       "2           2  200-schools-under-scanner-for-affiliation-with...   \n",
       "3           3               plan-to-give-dilli-haat-a-fresh-look   \n",
       "4           4         delhi-hospitals-sign-up-for-central-scheme   \n",
       "\n",
       "                                       article_title  \\\n",
       "0    Delhi lawyer plays cop, nabs snatcher in 12 hrs   \n",
       "1  Kiosks at Delhi metro stations to help you boo...   \n",
       "2  200 schools under scanner for affiliation with...   \n",
       "3               Plan to give Dilli Haat a fresh look   \n",
       "4         Delhi hospitals sign up for central scheme   \n",
       "\n",
       "                                         article_url  \\\n",
       "0  https://timesofindia.indiatimes.com/city/delhi...   \n",
       "1  https://timesofindia.indiatimes.com/city/delhi...   \n",
       "2  https://timesofindia.indiatimes.com/city/delhi...   \n",
       "3  https://timesofindia.indiatimes.com/city/delhi...   \n",
       "4  https://timesofindia.indiatimes.com/city/delhi...   \n",
       "\n",
       "                 article_time  \n",
       "0  27 Dec 2018, 01:26 hrs IST  \n",
       "1  27 Dec 2018, 12:30 hrs IST  \n",
       "2  27 Dec 2018, 08:16 hrs IST  \n",
       "3  27 Dec 2018, 06:56 hrs IST  \n",
       "4  27 Dec 2018, 02:38 hrs IST  "
      ]
     },
     "execution_count": 122,
     "metadata": {},
     "output_type": "execute_result"
    }
   ],
   "source": [
    "file_name = \"sample.csv\"\n",
    "news_df.to_csv(file_name, sep='|', encoding='utf-8')\n",
    "df = pd.read_csv(file_name, delimiter='|')\n",
    "df.head()"
   ]
  },
  {
   "cell_type": "code",
   "execution_count": null,
   "metadata": {},
   "outputs": [],
   "source": []
  }
 ],
 "metadata": {
  "kernelspec": {
   "display_name": "Python 3",
   "language": "python",
   "name": "python3"
  },
  "language_info": {
   "codemirror_mode": {
    "name": "ipython",
    "version": 3
   },
   "file_extension": ".py",
   "mimetype": "text/x-python",
   "name": "python",
   "nbconvert_exporter": "python",
   "pygments_lexer": "ipython3",
   "version": "3.6.5"
  }
 },
 "nbformat": 4,
 "nbformat_minor": 2
}
